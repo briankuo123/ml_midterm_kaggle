{
 "cells": [
  {
   "attachments": {},
   "cell_type": "markdown",
   "metadata": {},
   "source": [
    "### 比賽網址:https://www.kaggle.com/competitions/house-prices-advanced-regression-techniques/overview\n",
    "\n",
    "### 實作方法參考網址:https://www.kaggle.com/code/smnuruzzaman/house-price-90\n",
    "\n",
    "![todo](/todo.png)\n",
    "\n",
    "<ul>\n",
    "    <li>比賽簡介:<br>\n",
    "    &nbsp;&nbsp;&nbsp;&nbsp;House Prices - Advanced Regression Techniques<br>\n",
    "    &nbsp;&nbsp;&nbsp;&nbsp;房價預測模型比賽，可以進行random forest和gradient boosting的練習\n",
    "    </li>\n",
    "    <li>為什麼選擇這個比賽:<br>\n",
    "    &nbsp;&nbsp;&nbsp;&nbsp;之所以會選擇這個比賽是因為我在kaggle上面大致瀏覽過後沒有找到比較適合跟課堂產生關連性的內容，所以才選擇的這個保守牌\n",
    "    </li>\n",
    "</ul>\n",
    "\n",
    "### 資料集和目標介紹:\n",
    "&nbsp;<h3>欄位介紹</h3>\n",
    "<ul>\n",
    "    <li>SalePrice - the property's sale price in dollars. This is the target variable that you're trying to predict</li>\n",
    "    <li>MSSubClass: The building class</li>\n",
    "    <li>MSZoning: The general zoning classification</li>\n",
    "    <li>LotFrontage: Linear feet of street connected to property</li>\n",
    "    <li>LotArea: Lot size in square feet</li>\n",
    "    <li>Street: Type of road access</li>\n",
    "    <li>Alley: Type of alley access</li>\n",
    "    <li>LotShape: General shape of property</li>\n",
    "    <li>LandContour: Flatness of the property</li>\n",
    "    <li>Utilities: Type of utilities available</li>\n",
    "    <li>LotConfig: Lot configuration</li>\n",
    "    <li>LandSlope: Slope of property</li>\n",
    "    <li>Neighborhood: Physical locations within Ames city limits</li>\n",
    "    <li>Condition1: Proximity to main road or railroad</li>\n",
    "    <li>Condition2: Proximity to main road or railroad (if a second is present)</li>\n",
    "    <li>BldgType: Type of dwelling</li>\n",
    "    <li>HouseStyle: Style of dwelling</li>\n",
    "    <li>OverallQual: Overall material and finish quality</li>\n",
    "    <li>OverallCond: Overall condition rating</li>\n",
    "    <li>YearBuilt: Original construction date</li>\n",
    "    <li>YearRemodAdd: Remodel date</li>\n",
    "    <li>RoofStyle: Type of roof</li>\n",
    "    <li>RoofMatl: Roof material</li>\n",
    "    <li>Exterior1st: Exterior covering on house</li>\n",
    "    <li>Exterior2nd: Exterior covering on house (if more than one material)</li>\n",
    "    <li>MasVnrType: Masonry veneer type</li>\n",
    "    <li>MasVnrArea: Masonry veneer area in square feet</li>\n",
    "    <li>ExterQual: Exterior material quality</li>\n",
    "    <li>ExterCond: Present condition of the material on the exterior</li>\n",
    "    <li>Foundation: Type of foundation</li>\n",
    "    <li>BsmtQual: Height of the basement</li>\n",
    "    <li>BsmtCond: General condition of the basement</li>\n",
    "    <li>BsmtExposure: Walkout or garden level basement walls</li>\n",
    "    <li>BsmtFinType1: Quality of basement finished area</li>\n",
    "    <li>BsmtFinSF1: Type 1 finished square feet</li>\n",
    "    <li>BsmtFinType2: Quality of second finished area (if present)</li>\n",
    "    <li>BsmtUnfSF: Unfinished square feet of basement area</li>\n",
    "    <li>TotalBsmtSF: Total square feet of basement area</li>\n",
    "    <li>Heating: Type of heating</li>\n",
    "    <li>HeatingQC: Heating quality and condition</li>\n",
    "    <li>CentralAir: Central air conditioning</li>\n",
    "    <li>Electrical: Electrical system</li>\n",
    "    <li>1stFlrSF: First Floor square feet</li>\n",
    "    <li>2ndFlrSF: Second floor square feet</li>\n",
    "    <li>LowQualFinSF: Low quality finished square feet (all floors)</li>\n",
    "    <li>GrLivArea: Above grade (ground) living area square feet</li>\n",
    "    <li>BsmtFullBath: Basement full bathrooms</li>\n",
    "    <li>BsmtHalfBath: Basement half bathrooms</li>\n",
    "    <li>FullBath: Full bathrooms above grade</li>\n",
    "    <li>HalfBath: Half baths above grade</li>\n",
    "    <li>Bedroom: Number of bedrooms above basement level</li>\n",
    "    <li>Kitchen: Number of kitchens</li>\n",
    "    <li>KitchenQual: Kitchen quality</li>\n",
    "    <li>TotRmsAbvGrd: Total rooms above grade (does not include bathrooms)</li>\n",
    "    <li>Functional: Home functionality rating</li>\n",
    "    <li>Fireplaces: Number of fireplaces</li>\n",
    "    <li>FireplaceQu: Fireplace quality</li>\n",
    "    <li>GarageType: Garage location</li>\n",
    "    <li>GarageYrBlt: Year garage was built</li>\n",
    "    <li>GarageFinish: Interior finish of the garage</li>\n",
    "    <li>GarageCars: Size of garage in car capacity</li>\n",
    "    <li>GarageArea: Size of garage in square feet</li>\n",
    "    <li>GarageQual: Garage quality</li>\n",
    "    <li>GarageCond: Garage condition</li>\n",
    "    <li>PavedDrive: Paved driveway</li>\n",
    "    <li>WoodDeckSF: Wood deck area in square feet</li>\n",
    "    <li>OpenPorchSF: Open porch area in square feet</li>\n",
    "    <li>EnclosedPorch: Enclosed porch area in square feet</li>\n",
    "    <li>3SsnPorch: Three season porch area in square feet</li>\n",
    "    <li>ScreenPorch: Screen porch area in square feet</li>\n",
    "    <li>PoolArea: Pool area in square feet</li>\n",
    "    <li>PoolQC: Pool quality</li>\n",
    "    <li>Fence: Fence quality</li>\n",
    "    <li>MiscFeature: Miscellaneous feature not covered in other categories</li>\n",
    "    <li>MiscVal: $Value of miscellaneous feature</li>\n",
    "    <li>MoSold: Month Sold</li>\n",
    "    <li>YrSold: Year Sold</li>\n",
    "    <li>SaleType: Type of sale</li>\n",
    "    <li>SaleCondition: Condition of sale</li>\n",
    "</ul>\n",
    "<h3>&nbsp;欄位重點</h3>\n",
    "<p>&nbsp;&nbsp;&nbsp;&nbsp;以上欄位分為幾個重點，我認為對於房價來說都是有一定影響力的</p>\n",
    "<p>&nbsp;&nbsp;&nbsp;&nbsp;&nbsp;&nbsp;&nbsp;&nbsp;大約前四分之一的欄位所代表的是有關房子周圍的環境(e.g.地理位置、周遭的地質)</p>\n",
    "<p>&nbsp;&nbsp;&nbsp;&nbsp;&nbsp;&nbsp;&nbsp;&nbsp;中間段的資料所代表的資訊是房子本身的價值(e.g.裝潢等級、幾房幾廳、車庫大小)</p>\n",
    "<p>&nbsp;&nbsp;&nbsp;&nbsp;&nbsp;&nbsp;&nbsp;&nbsp;後段資料則是一個些有關房子的雜項(e.g.籬笆、出售日期)</p>\n",
    "\n",
    "<h3>&nbsp;目標</h3>\n",
    "<p>&nbsp;&nbsp;&nbsp;&nbsp;&nbsp;&nbsp;&nbsp;&nbsp;利用以上資料預測房子的價格，評分方式為看RMSE(均方根誤差)，越小排名越高</p>"
   ]
  },
  {
   "cell_type": "code",
   "execution_count": null,
   "metadata": {},
   "outputs": [],
   "source": [
    "import pandas as pd\n",
    "import numpy as np\n",
    "import matplotlib.pyplot as plt\n",
    "import seaborn as sns\n",
    "pd.set_option('display.max_rows', 1000)"
   ]
  },
  {
   "cell_type": "code",
   "execution_count": 156,
   "metadata": {},
   "outputs": [],
   "source": [
    "df = pd.read_csv('data/train.csv')"
   ]
  },
  {
   "cell_type": "code",
   "execution_count": 159,
   "metadata": {},
   "outputs": [
    {
     "name": "stdout",
     "output_type": "stream",
     "text": [
      "<class 'pandas.core.frame.DataFrame'>\n",
      "RangeIndex: 1460 entries, 0 to 1459\n",
      "Data columns (total 81 columns):\n",
      " #   Column         Non-Null Count  Dtype  \n",
      "---  ------         --------------  -----  \n",
      " 0   Id             1460 non-null   int64  \n",
      " 1   MSSubClass     1460 non-null   int64  \n",
      " 2   MSZoning       1460 non-null   object \n",
      " 3   LotFrontage    1201 non-null   float64\n",
      " 4   LotArea        1460 non-null   int64  \n",
      " 5   Street         1460 non-null   object \n",
      " 6   Alley          91 non-null     object \n",
      " 7   LotShape       1460 non-null   object \n",
      " 8   LandContour    1460 non-null   object \n",
      " 9   Utilities      1460 non-null   object \n",
      " 10  LotConfig      1460 non-null   object \n",
      " 11  LandSlope      1460 non-null   object \n",
      " 12  Neighborhood   1460 non-null   object \n",
      " 13  Condition1     1460 non-null   object \n",
      " 14  Condition2     1460 non-null   object \n",
      " 15  BldgType       1460 non-null   object \n",
      " 16  HouseStyle     1460 non-null   object \n",
      " 17  OverallQual    1460 non-null   int64  \n",
      " 18  OverallCond    1460 non-null   int64  \n",
      " 19  YearBuilt      1460 non-null   int64  \n",
      " 20  YearRemodAdd   1460 non-null   int64  \n",
      " 21  RoofStyle      1460 non-null   object \n",
      " 22  RoofMatl       1460 non-null   object \n",
      " 23  Exterior1st    1460 non-null   object \n",
      " 24  Exterior2nd    1460 non-null   object \n",
      " 25  MasVnrType     1452 non-null   object \n",
      " 26  MasVnrArea     1452 non-null   float64\n",
      " 27  ExterQual      1460 non-null   object \n",
      " 28  ExterCond      1460 non-null   object \n",
      " 29  Foundation     1460 non-null   object \n",
      " 30  BsmtQual       1423 non-null   object \n",
      " 31  BsmtCond       1423 non-null   object \n",
      " 32  BsmtExposure   1422 non-null   object \n",
      " 33  BsmtFinType1   1423 non-null   object \n",
      " 34  BsmtFinSF1     1460 non-null   int64  \n",
      " 35  BsmtFinType2   1422 non-null   object \n",
      " 36  BsmtFinSF2     1460 non-null   int64  \n",
      " 37  BsmtUnfSF      1460 non-null   int64  \n",
      " 38  TotalBsmtSF    1460 non-null   int64  \n",
      " 39  Heating        1460 non-null   object \n",
      " 40  HeatingQC      1460 non-null   object \n",
      " 41  CentralAir     1460 non-null   object \n",
      " 42  Electrical     1459 non-null   object \n",
      " 43  1stFlrSF       1460 non-null   int64  \n",
      " 44  2ndFlrSF       1460 non-null   int64  \n",
      " 45  LowQualFinSF   1460 non-null   int64  \n",
      " 46  GrLivArea      1460 non-null   int64  \n",
      " 47  BsmtFullBath   1460 non-null   int64  \n",
      " 48  BsmtHalfBath   1460 non-null   int64  \n",
      " 49  FullBath       1460 non-null   int64  \n",
      " 50  HalfBath       1460 non-null   int64  \n",
      " 51  BedroomAbvGr   1460 non-null   int64  \n",
      " 52  KitchenAbvGr   1460 non-null   int64  \n",
      " 53  KitchenQual    1460 non-null   object \n",
      " 54  TotRmsAbvGrd   1460 non-null   int64  \n",
      " 55  Functional     1460 non-null   object \n",
      " 56  Fireplaces     1460 non-null   int64  \n",
      " 57  FireplaceQu    770 non-null    object \n",
      " 58  GarageType     1379 non-null   object \n",
      " 59  GarageYrBlt    1379 non-null   float64\n",
      " 60  GarageFinish   1379 non-null   object \n",
      " 61  GarageCars     1460 non-null   int64  \n",
      " 62  GarageArea     1460 non-null   int64  \n",
      " 63  GarageQual     1379 non-null   object \n",
      " 64  GarageCond     1379 non-null   object \n",
      " 65  PavedDrive     1460 non-null   object \n",
      " 66  WoodDeckSF     1460 non-null   int64  \n",
      " 67  OpenPorchSF    1460 non-null   int64  \n",
      " 68  EnclosedPorch  1460 non-null   int64  \n",
      " 69  3SsnPorch      1460 non-null   int64  \n",
      " 70  ScreenPorch    1460 non-null   int64  \n",
      " 71  PoolArea       1460 non-null   int64  \n",
      " 72  PoolQC         7 non-null      object \n",
      " 73  Fence          281 non-null    object \n",
      " 74  MiscFeature    54 non-null     object \n",
      " 75  MiscVal        1460 non-null   int64  \n",
      " 76  MoSold         1460 non-null   int64  \n",
      " 77  YrSold         1460 non-null   int64  \n",
      " 78  SaleType       1460 non-null   object \n",
      " 79  SaleCondition  1460 non-null   object \n",
      " 80  SalePrice      1460 non-null   int64  \n",
      "dtypes: float64(3), int64(35), object(43)\n",
      "memory usage: 924.0+ KB\n"
     ]
    },
    {
     "data": {
      "text/plain": [
       "Id                  0\n",
       "MSSubClass          0\n",
       "MSZoning            0\n",
       "LotFrontage       259\n",
       "LotArea             0\n",
       "Street              0\n",
       "Alley            1369\n",
       "LotShape            0\n",
       "LandContour         0\n",
       "Utilities           0\n",
       "LotConfig           0\n",
       "LandSlope           0\n",
       "Neighborhood        0\n",
       "Condition1          0\n",
       "Condition2          0\n",
       "BldgType            0\n",
       "HouseStyle          0\n",
       "OverallQual         0\n",
       "OverallCond         0\n",
       "YearBuilt           0\n",
       "YearRemodAdd        0\n",
       "RoofStyle           0\n",
       "RoofMatl            0\n",
       "Exterior1st         0\n",
       "Exterior2nd         0\n",
       "MasVnrType          8\n",
       "MasVnrArea          8\n",
       "ExterQual           0\n",
       "ExterCond           0\n",
       "Foundation          0\n",
       "BsmtQual           37\n",
       "BsmtCond           37\n",
       "BsmtExposure       38\n",
       "BsmtFinType1       37\n",
       "BsmtFinSF1          0\n",
       "BsmtFinType2       38\n",
       "BsmtFinSF2          0\n",
       "BsmtUnfSF           0\n",
       "TotalBsmtSF         0\n",
       "Heating             0\n",
       "HeatingQC           0\n",
       "CentralAir          0\n",
       "Electrical          1\n",
       "1stFlrSF            0\n",
       "2ndFlrSF            0\n",
       "LowQualFinSF        0\n",
       "GrLivArea           0\n",
       "BsmtFullBath        0\n",
       "BsmtHalfBath        0\n",
       "FullBath            0\n",
       "HalfBath            0\n",
       "BedroomAbvGr        0\n",
       "KitchenAbvGr        0\n",
       "KitchenQual         0\n",
       "TotRmsAbvGrd        0\n",
       "Functional          0\n",
       "Fireplaces          0\n",
       "FireplaceQu       690\n",
       "GarageType         81\n",
       "GarageYrBlt        81\n",
       "GarageFinish       81\n",
       "GarageCars          0\n",
       "GarageArea          0\n",
       "GarageQual         81\n",
       "GarageCond         81\n",
       "PavedDrive          0\n",
       "WoodDeckSF          0\n",
       "OpenPorchSF         0\n",
       "EnclosedPorch       0\n",
       "3SsnPorch           0\n",
       "ScreenPorch         0\n",
       "PoolArea            0\n",
       "PoolQC           1453\n",
       "Fence            1179\n",
       "MiscFeature      1406\n",
       "MiscVal             0\n",
       "MoSold              0\n",
       "YrSold              0\n",
       "SaleType            0\n",
       "SaleCondition       0\n",
       "SalePrice           0\n",
       "dtype: int64"
      ]
     },
     "execution_count": 159,
     "metadata": {},
     "output_type": "execute_result"
    }
   ],
   "source": [
    "df.info()\n",
    "df.isnull().sum()"
   ]
  },
  {
   "attachments": {},
   "cell_type": "markdown",
   "metadata": {},
   "source": [
    "## 踢掉空值過多的欄位避免影響預測(抓超過100的) and 依照上的的模型製作步驟走"
   ]
  },
  {
   "cell_type": "code",
   "execution_count": 140,
   "metadata": {},
   "outputs": [],
   "source": [
    "df_train = df.drop(['LotFrontage', 'Alley', 'FireplaceQu', 'PoolQC', 'Fence',\n",
    "       'MiscFeature'], axis=1)"
   ]
  },
  {
   "attachments": {},
   "cell_type": "markdown",
   "metadata": {},
   "source": [
    "## 這次的目標是要將各個欄位導入做線性回歸預測(上課內容:回歸預測)\n",
    "\n",
    "我的看法是將所有的欄位都丟進去做預測，因為我不是看房大師，不知道那些要素對房價的影響是正向還是負向。<br>\n",
    "所以我打算把所有欄位都拿去做預測，有相關性的資料就會影響到模型，沒有相關性的資料就應該會呈現常態分佈對模型的影響不大，我是這麼認為的。"
   ]
  },
  {
   "cell_type": "code",
   "execution_count": 141,
   "metadata": {},
   "outputs": [
    {
     "name": "stderr",
     "output_type": "stream",
     "text": [
      "C:\\Users\\user\\AppData\\Local\\Temp\\ipykernel_19776\\1974361257.py:1: UserWarning: \n",
      "\n",
      "`distplot` is a deprecated function and will be removed in seaborn v0.14.0.\n",
      "\n",
      "Please adapt your code to use either `displot` (a figure-level function with\n",
      "similar flexibility) or `histplot` (an axes-level function for histograms).\n",
      "\n",
      "For a guide to updating your code to use the new functions, please see\n",
      "https://gist.github.com/mwaskom/de44147ed2974457ad6372750bbe5751\n",
      "\n",
      "  sns.distplot(df_train['MSSubClass'])\n"
     ]
    },
    {
     "data": {
      "text/plain": [
       "<Axes: xlabel='MSSubClass', ylabel='Density'>"
      ]
     },
     "execution_count": 141,
     "metadata": {},
     "output_type": "execute_result"
    },
    {
     "data": {
      "image/png": "[encoded data removed]",
      "text/plain": [
       "<Figure size 640x480 with 1 Axes>"
      ]
     },
     "metadata": {},
     "output_type": "display_data"
    }
   ],
   "source": [
    "sns.distplot(df_train['MSSubClass'])"
   ]
  },
  {
   "attachments": {},
   "cell_type": "markdown",
   "metadata": {},
   "source": [
    "## 因為物件不好處理所以先分開做，選出數字欄位和物件欄位"
   ]
  },
  {
   "cell_type": "code",
   "execution_count": 144,
   "metadata": {},
   "outputs": [],
   "source": [
    "df_only_num = df_train.select_dtypes(include=['int64','float64']).columns\n",
    "#select 'Object' data type columns name\n",
    "cat_var=df_train.select_dtypes(include=['O']).columns"
   ]
  },
  {
   "attachments": {},
   "cell_type": "markdown",
   "metadata": {},
   "source": [
    "## 用SimpleImputer將數字欄位用平均填上，物件欄位用出現最多次的填上(上課內容:欄位補充方法 and 延伸學習:SimpleImputer)"
   ]
  },
  {
   "cell_type": "code",
   "execution_count": 145,
   "metadata": {},
   "outputs": [],
   "source": [
    "from sklearn.impute import SimpleImputer\n",
    "imputer=SimpleImputer(strategy='mean')\n",
    "imputer.fit(df_train[df_only_num])\n",
    "imputer.fit_transform(df_train[df_only_num])\n",
    "df_train[df_only_num]=imputer.transform(df_train[df_only_num])"
   ]
  },
  {
   "cell_type": "code",
   "execution_count": 146,
   "metadata": {},
   "outputs": [],
   "source": [
    "cat_imputer=SimpleImputer(strategy='most_frequent')\n",
    "df_train[cat_var]=cat_imputer.fit_transform(df_train[cat_var])"
   ]
  },
  {
   "attachments": {},
   "cell_type": "markdown",
   "metadata": {},
   "source": [
    "## lable encoding 將object欄位裡的內容以數字取代(延伸學習:lable encoding)"
   ]
  },
  {
   "cell_type": "code",
   "execution_count": 148,
   "metadata": {},
   "outputs": [],
   "source": [
    "from sklearn import preprocessing\n",
    "le = preprocessing.LabelEncoder()\n",
    "for var in cat_var:\n",
    "    df_train[var]=le.fit_transform(df_train[var])"
   ]
  },
  {
   "attachments": {},
   "cell_type": "markdown",
   "metadata": {},
   "source": [
    "## 分割資料，開始訓練模型"
   ]
  },
  {
   "cell_type": "code",
   "execution_count": 149,
   "metadata": {},
   "outputs": [],
   "source": [
    "X = df_train.iloc[:,:-1]\n",
    "y = df_train['SalePrice']"
   ]
  },
  {
   "cell_type": "code",
   "execution_count": 150,
   "metadata": {},
   "outputs": [],
   "source": [
    "from sklearn.model_selection import train_test_split\n",
    "X_train, X_test, y_train, y_test = train_test_split(X, y, test_size=0.3, random_state=54)"
   ]
  },
  {
   "cell_type": "code",
   "execution_count": 151,
   "metadata": {},
   "outputs": [
    {
     "data": {
      "text/html": [
       "<style>#sk-container-id-6 {color: black;background-color: white;}#sk-container-id-6 pre{padding: 0;}#sk-container-id-6 div.sk-toggleable {background-color: white;}#sk-container-id-6 label.sk-toggleable__label {cursor: pointer;display: block;width: 100%;margin-bottom: 0;padding: 0.3em;box-sizing: border-box;text-align: center;}#sk-container-id-6 label.sk-toggleable__label-arrow:before {content: \"▸\";float: left;margin-right: 0.25em;color: #696969;}#sk-container-id-6 label.sk-toggleable__label-arrow:hover:before {color: black;}#sk-container-id-6 div.sk-estimator:hover label.sk-toggleable__label-arrow:before {color: black;}#sk-container-id-6 div.sk-toggleable__content {max-height: 0;max-width: 0;overflow: hidden;text-align: left;background-color: #f0f8ff;}#sk-container-id-6 div.sk-toggleable__content pre {margin: 0.2em;color: black;border-radius: 0.25em;background-color: #f0f8ff;}#sk-container-id-6 input.sk-toggleable__control:checked~div.sk-toggleable__content {max-height: 200px;max-width: 100%;overflow: auto;}#sk-container-id-6 input.sk-toggleable__control:checked~label.sk-toggleable__label-arrow:before {content: \"▾\";}#sk-container-id-6 div.sk-estimator input.sk-toggleable__control:checked~label.sk-toggleable__label {background-color: #d4ebff;}#sk-container-id-6 div.sk-label input.sk-toggleable__control:checked~label.sk-toggleable__label {background-color: #d4ebff;}#sk-container-id-6 input.sk-hidden--visually {border: 0;clip: rect(1px 1px 1px 1px);clip: rect(1px, 1px, 1px, 1px);height: 1px;margin: -1px;overflow: hidden;padding: 0;position: absolute;width: 1px;}#sk-container-id-6 div.sk-estimator {font-family: monospace;background-color: #f0f8ff;border: 1px dotted black;border-radius: 0.25em;box-sizing: border-box;margin-bottom: 0.5em;}#sk-container-id-6 div.sk-estimator:hover {background-color: #d4ebff;}#sk-container-id-6 div.sk-parallel-item::after {content: \"\";width: 100%;border-bottom: 1px solid gray;flex-grow: 1;}#sk-container-id-6 div.sk-label:hover label.sk-toggleable__label {background-color: #d4ebff;}#sk-container-id-6 div.sk-serial::before {content: \"\";position: absolute;border-left: 1px solid gray;box-sizing: border-box;top: 0;bottom: 0;left: 50%;z-index: 0;}#sk-container-id-6 div.sk-serial {display: flex;flex-direction: column;align-items: center;background-color: white;padding-right: 0.2em;padding-left: 0.2em;position: relative;}#sk-container-id-6 div.sk-item {position: relative;z-index: 1;}#sk-container-id-6 div.sk-parallel {display: flex;align-items: stretch;justify-content: center;background-color: white;position: relative;}#sk-container-id-6 div.sk-item::before, #sk-container-id-6 div.sk-parallel-item::before {content: \"\";position: absolute;border-left: 1px solid gray;box-sizing: border-box;top: 0;bottom: 0;left: 50%;z-index: -1;}#sk-container-id-6 div.sk-parallel-item {display: flex;flex-direction: column;z-index: 1;position: relative;background-color: white;}#sk-container-id-6 div.sk-parallel-item:first-child::after {align-self: flex-end;width: 50%;}#sk-container-id-6 div.sk-parallel-item:last-child::after {align-self: flex-start;width: 50%;}#sk-container-id-6 div.sk-parallel-item:only-child::after {width: 0;}#sk-container-id-6 div.sk-dashed-wrapped {border: 1px dashed gray;margin: 0 0.4em 0.5em 0.4em;box-sizing: border-box;padding-bottom: 0.4em;background-color: white;}#sk-container-id-6 div.sk-label label {font-family: monospace;font-weight: bold;display: inline-block;line-height: 1.2em;}#sk-container-id-6 div.sk-label-container {text-align: center;}#sk-container-id-6 div.sk-container {/* jupyter's `normalize.less` sets `[hidden] { display: none; }` but bootstrap.min.css set `[hidden] { display: none !important; }` so we also need the `!important` here to be able to override the default hidden behavior on the sphinx rendered scikit-learn.org. See: https://github.com/scikit-learn/scikit-learn/issues/21755 */display: inline-block !important;position: relative;}#sk-container-id-6 div.sk-text-repr-fallback {display: none;}</style><div id=\"sk-container-id-6\" class=\"sk-top-container\"><div class=\"sk-text-repr-fallback\"><pre>LinearRegression()</pre><b>In a Jupyter environment, please rerun this cell to show the HTML representation or trust the notebook. <br />On GitHub, the HTML representation is unable to render, please try loading this page with nbviewer.org.</b></div><div class=\"sk-container\" hidden><div class=\"sk-item\"><div class=\"sk-estimator sk-toggleable\"><input class=\"sk-toggleable__control sk-hidden--visually\" id=\"sk-estimator-id-6\" type=\"checkbox\" checked><label for=\"sk-estimator-id-6\" class=\"sk-toggleable__label sk-toggleable__label-arrow\">LinearRegression</label><div class=\"sk-toggleable__content\"><pre>LinearRegression()</pre></div></div></div></div></div>"
      ],
      "text/plain": [
       "LinearRegression()"
      ]
     },
     "execution_count": 151,
     "metadata": {},
     "output_type": "execute_result"
    }
   ],
   "source": [
    "from sklearn.linear_model import LinearRegression\n",
    "model = LinearRegression()\n",
    "model.fit(X_train, y_train)"
   ]
  },
  {
   "cell_type": "code",
   "execution_count": 152,
   "metadata": {},
   "outputs": [
    {
     "data": {
      "text/plain": [
       "0.7142814356371976"
      ]
     },
     "execution_count": 152,
     "metadata": {},
     "output_type": "execute_result"
    }
   ],
   "source": [
    "model.score(X_test, y_test)"
   ]
  },
  {
   "attachments": {},
   "cell_type": "markdown",
   "metadata": {},
   "source": [
    "## 根據網站的規則以RMSE來評分(越小越好)"
   ]
  },
  {
   "cell_type": "code",
   "execution_count": 153,
   "metadata": {},
   "outputs": [
    {
     "data": {
      "text/plain": [
       "42983.75322346816"
      ]
     },
     "execution_count": 153,
     "metadata": {},
     "output_type": "execute_result"
    }
   ],
   "source": [
    "predictions = model.predict(X_test)\n",
    "\n",
    "from sklearn.metrics import mean_squared_error\n",
    "mean_squared_error(y_test, predictions, squared=False)"
   ]
  },
  {
   "attachments": {},
   "cell_type": "markdown",
   "metadata": {},
   "source": [
    "## 輸出模型"
   ]
  },
  {
   "cell_type": "code",
   "execution_count": 154,
   "metadata": {},
   "outputs": [
    {
     "data": {
      "text/plain": [
       "['house_prices_predictio.pkl']"
      ]
     },
     "execution_count": 154,
     "metadata": {},
     "output_type": "execute_result"
    }
   ],
   "source": [
    "import joblib\n",
    "joblib.dump(model, 'house_prices_predictio.pkl', compress = 3)"
   ]
  }
 ],
 "metadata": {
  "kernelspec": {
   "display_name": "ncuclass",
   "language": "python",
   "name": "python3"
  },
  "language_info": {
   "codemirror_mode": {
    "name": "ipython",
    "version": 3
   },
   "file_extension": ".py",
   "mimetype": "text/x-python",
   "name": "python",
   "nbconvert_exporter": "python",
   "pygments_lexer": "ipython3",
   "version": "3.9.16"
  },
  "orig_nbformat": 4
 },
 "nbformat": 4,
 "nbformat_minor": 2
}
